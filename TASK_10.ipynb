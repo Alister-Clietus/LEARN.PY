{
  "nbformat": 4,
  "nbformat_minor": 0,
  "metadata": {
    "colab": {
      "name": "TASK 10.ipynb",
      "provenance": [],
      "include_colab_link": true
    },
    "kernelspec": {
      "name": "python3",
      "display_name": "Python 3"
    },
    "language_info": {
      "name": "python"
    }
  },
  "cells": [
    {
      "cell_type": "markdown",
      "metadata": {
        "id": "view-in-github",
        "colab_type": "text"
      },
      "source": [
        "<a href=\"https://colab.research.google.com/github/Alister-Clietus/LEARN.PY/blob/main/TASK_10.ipynb\" target=\"_parent\"><img src=\"https://colab.research.google.com/assets/colab-badge.svg\" alt=\"Open In Colab\"/></a>"
      ]
    },
    {
      "cell_type": "markdown",
      "metadata": {
        "id": "VHKxwUewxOi2"
      },
      "source": [
        "1. Generate two  3 x 3 matrix and find it's dot product and take the transpose of the answer."
      ]
    },
    {
      "cell_type": "code",
      "metadata": {
        "id": "RdyKd1CAxZtR",
        "colab": {
          "base_uri": "https://localhost:8080/"
        },
        "outputId": "8b205676-3459-41a4-cefa-2a77d2ad4af0"
      },
      "source": [
        "#please provide your answer below this line.\n",
        "import numpy as np\n",
        "arr_1=np.arange(9).reshape(3,3)\n",
        "arr_2=np.arange(9).reshape(3,3)\n",
        "arr_3=np.dot(arr_1,arr_2)\n",
        "print(\"Dot Product Of Matrix is\",arr_3)\n",
        "arr_3_transpose=arr_3.transpose()\n",
        "print(\"Transpose OF Answer is\",arr_3_transpose)"
      ],
      "execution_count": 5,
      "outputs": [
        {
          "output_type": "stream",
          "text": [
            "Dot Product Of Matrix is [[ 15  18  21]\n",
            " [ 42  54  66]\n",
            " [ 69  90 111]]\n",
            "Transpose OF Answer is [[ 15  42  69]\n",
            " [ 18  54  90]\n",
            " [ 21  66 111]]\n"
          ],
          "name": "stdout"
        }
      ]
    },
    {
      "cell_type": "markdown",
      "metadata": {
        "id": "9c9ZwiBxxf4t"
      },
      "source": [
        "2. Create a 3x3 matrix with elements [55,25,15], [30,44,2], [11,45,77] . Now find the determinant of the given matrix."
      ]
    },
    {
      "cell_type": "code",
      "metadata": {
        "id": "Anmr3C9KyNyy",
        "colab": {
          "base_uri": "https://localhost:8080/"
        },
        "outputId": "ea98e43f-b2c9-4a32-e601-8dd282fa6ee4"
      },
      "source": [
        "#please provide your answer below this line.\n",
        "import numpy as np\n",
        "arr_1=np.array([[55,25,15], [30,44,2], [11,45,77]]).reshape(3,3)\n",
        "print(\"Given Array is \\n\",arr_1)\n",
        "dt=np.linalg.det(arr_1)\n",
        "print(\"Determinant Of Given Matrix is \",dt) \n",
        "\n"
      ],
      "execution_count": 7,
      "outputs": [
        {
          "output_type": "stream",
          "text": [
            "Given Array is \n",
            " [[55 25 15]\n",
            " [30 44  2]\n",
            " [11 45 77]]\n",
            "Determinant Of Given Matrix is  137180.0000000001\n"
          ],
          "name": "stdout"
        }
      ]
    }
  ]
}