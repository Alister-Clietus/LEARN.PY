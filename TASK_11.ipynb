{
  "nbformat": 4,
  "nbformat_minor": 0,
  "metadata": {
    "colab": {
      "name": "TASK 11.ipynb",
      "provenance": [],
      "include_colab_link": true
    },
    "kernelspec": {
      "name": "python3",
      "display_name": "Python 3"
    },
    "language_info": {
      "name": "python"
    }
  },
  "cells": [
    {
      "cell_type": "markdown",
      "metadata": {
        "id": "view-in-github",
        "colab_type": "text"
      },
      "source": [
        "<a href=\"https://colab.research.google.com/github/Alister-Clietus/LEARN.PY/blob/main/TASK_11.ipynb\" target=\"_parent\"><img src=\"https://colab.research.google.com/assets/colab-badge.svg\" alt=\"Open In Colab\"/></a>"
      ]
    },
    {
      "cell_type": "markdown",
      "metadata": {
        "id": "Ud2gZIbu6E59"
      },
      "source": [
        "N.B: Please find the answers by applying the functions on the matrices"
      ]
    },
    {
      "cell_type": "markdown",
      "metadata": {
        "id": "_9JX1Vdn4sTN"
      },
      "source": [
        "1. Create 2 3×3 matrix with 0-8 and 10-19 as elements in each and perform the vectorize multiplication operations on the matrices.(Outer product, Dot product, Element wise product)."
      ]
    },
    {
      "cell_type": "code",
      "metadata": {
        "id": "aBzAn6Z75VQ6",
        "outputId": "07e646c9-8d95-4444-9941-c6a1ea59d40a",
        "colab": {
          "base_uri": "https://localhost:8080/"
        }
      },
      "source": [
        "#please type your answer below this line.\n",
        "import numpy as np\n",
        "arr_1=np.arange(9).reshape(3,3)\n",
        "print(\"First Array\\n\",arr_1)\n",
        "arr_2=np.arange(10,19).reshape(3,3)\n",
        "print(\"Second Array\\n\",arr_2)\n",
        "print(\"Outer Product\\n\",np.outer(arr_1,arr_2))\n",
        "print(\"Dot Product\\n\",np.dot(arr_1,arr_2))\n",
        "print(\"Element Wise Product\\n\",np.multiply(arr_1,arr_2))\n",
        "\n",
        "\n"
      ],
      "execution_count": 6,
      "outputs": [
        {
          "output_type": "stream",
          "text": [
            "First Array\n",
            " [[0 1 2]\n",
            " [3 4 5]\n",
            " [6 7 8]]\n",
            "Second Array\n",
            " [[10 11 12]\n",
            " [13 14 15]\n",
            " [16 17 18]]\n",
            "Outer Product\n",
            " [[  0   0   0   0   0   0   0   0   0]\n",
            " [ 10  11  12  13  14  15  16  17  18]\n",
            " [ 20  22  24  26  28  30  32  34  36]\n",
            " [ 30  33  36  39  42  45  48  51  54]\n",
            " [ 40  44  48  52  56  60  64  68  72]\n",
            " [ 50  55  60  65  70  75  80  85  90]\n",
            " [ 60  66  72  78  84  90  96 102 108]\n",
            " [ 70  77  84  91  98 105 112 119 126]\n",
            " [ 80  88  96 104 112 120 128 136 144]]\n",
            "Dot Product\n",
            " [[ 45  48  51]\n",
            " [162 174 186]\n",
            " [279 300 321]]\n",
            "Element Wise Product\n",
            " [[  0  11  24]\n",
            " [ 39  56  75]\n",
            " [ 96 119 144]]\n"
          ],
          "name": "stdout"
        }
      ]
    },
    {
      "cell_type": "markdown",
      "metadata": {
        "id": "gJGtIjx25k92"
      },
      "source": [
        "2. Create a 4×4 matrix with 0-16  as elements in it. Add a scalar 4 to the matrix and also multiply it with [1,2,3,4] 1-D matrix by broadcasting. ( Please note to do both the addition and multiplication by broadcasting.)"
      ]
    },
    {
      "cell_type": "code",
      "metadata": {
        "id": "H7cznh8M56r-",
        "outputId": "4dee5037-8778-453a-faa1-1603e857d4ea",
        "colab": {
          "base_uri": "https://localhost:8080/"
        }
      },
      "source": [
        "#please type your answer below this line.\n",
        "import numpy as np\n",
        "arr_1=np.arange(16).reshape(4,4)\n",
        "print(\"First Array\\n\",arr_1)\n",
        "arr_2=arr_1+4\n",
        "print(\"Scalar 4 added matrix\\n\",arr_2)\n",
        "arr_mul=[1,2,3,4]\n",
        "arr_3=arr_1*arr_mul\n",
        "print(\"MultiplIY wITH [1,2,3,4] matrix\\n\",arr_3)\n"
      ],
      "execution_count": 9,
      "outputs": [
        {
          "output_type": "stream",
          "text": [
            "First Array\n",
            " [[ 0  1  2  3]\n",
            " [ 4  5  6  7]\n",
            " [ 8  9 10 11]\n",
            " [12 13 14 15]]\n",
            "Scalar 4 added matrix\n",
            " [[ 4  5  6  7]\n",
            " [ 8  9 10 11]\n",
            " [12 13 14 15]\n",
            " [16 17 18 19]]\n",
            "MultiplIY wITH [1,2,3,4] matrix\n",
            " [[ 0  2  6 12]\n",
            " [ 4 10 18 28]\n",
            " [ 8 18 30 44]\n",
            " [12 26 42 60]]\n"
          ],
          "name": "stdout"
        }
      ]
    }
  ]
}