{
  "nbformat": 4,
  "nbformat_minor": 0,
  "metadata": {
    "colab": {
      "name": "TASK 3.ipynb",
      "provenance": [],
      "include_colab_link": true
    },
    "kernelspec": {
      "name": "python3",
      "display_name": "Python 3"
    },
    "language_info": {
      "name": "python"
    }
  },
  "cells": [
    {
      "cell_type": "markdown",
      "metadata": {
        "id": "view-in-github",
        "colab_type": "text"
      },
      "source": [
        "<a href=\"https://colab.research.google.com/github/Alister-Clietus/LEARN.PY/blob/main/TASK_3.ipynb\" target=\"_parent\"><img src=\"https://colab.research.google.com/assets/colab-badge.svg\" alt=\"Open In Colab\"/></a>"
      ]
    },
    {
      "cell_type": "markdown",
      "metadata": {
        "id": "z20IIB0eUQMN"
      },
      "source": [
        "1 - Write a program which takes a number as input from the user and check whether the number is odd or even.If odd print the number is odd if not print it is even."
      ]
    },
    {
      "cell_type": "code",
      "metadata": {
        "id": "dVgGJ-wTVRit",
        "outputId": "63aacf76-2f0e-4ae1-fab7-af473a608e1b",
        "colab": {
          "base_uri": "https://localhost:8080/"
        }
      },
      "source": [
        "#please enter your answer below this line\n",
        "num1=int(input(\"Enter The Number To Check Whether It Is Odd Or Even \"))\n",
        "if num1%2==0:\n",
        "  print(\"ENTERED NUMBER {} IS EVEN\".format(num1))\n",
        "else:\n",
        "  print(\"ENTERED NUMBER {} IS ODD\".format(num1))\n",
        "\n"
      ],
      "execution_count": 2,
      "outputs": [
        {
          "output_type": "stream",
          "text": [
            "Enter The Number To Check Whether It Is Odd Or Even 45\n",
            "ENTERED NUMBER 45 IS ODD\n"
          ],
          "name": "stdout"
        }
      ]
    },
    {
      "cell_type": "markdown",
      "metadata": {
        "id": "7778XD8PVblj"
      },
      "source": [
        "2 -Write a program to find the largest among three numbers and print the largest number."
      ]
    },
    {
      "cell_type": "code",
      "metadata": {
        "id": "m0tUOkOFWR-d",
        "outputId": "33566625-e841-4406-8b99-d11907f8fc4f",
        "colab": {
          "base_uri": "https://localhost:8080/"
        }
      },
      "source": [
        "#please enter your answer below this line\n",
        "num_1=int(input(\"Enter The First Number \"))\n",
        "num_2=int(input(\"Enter The Second Number \"))\n",
        "num_3=int(input(\"Enter The Third Number \"))\n",
        "if (num_1 >= num_2) and (num_1 >= num_3):\n",
        "   largest = num_1\n",
        "elif (num_2 >= num_1) and (num_2 >= num_3):\n",
        "   largest = num2\n",
        "else:\n",
        "   largest = num_3\n",
        "\n",
        "print(\"The largest number is\", largest)\n"
      ],
      "execution_count": 17,
      "outputs": [
        {
          "output_type": "stream",
          "text": [
            "Enter The First Number 34\n",
            "Enter The Second Number 56\n",
            "Enter The Third Number 78\n",
            "The largest number is 78\n"
          ],
          "name": "stdout"
        }
      ]
    },
    {
      "cell_type": "markdown",
      "metadata": {
        "id": "Jg2Ns4OQWaJy"
      },
      "source": [
        "3 -Write a function to prompt for a score between 0.0 and 1.0.\n",
        "\n",
        "    If the score is out of range, print an error.\n",
        "    If the score is between 0.0 and 1.0, print a grade using the following table:\n",
        "    Score Grade\n",
        "             Score\tGrade\n",
        "            >= 0.9\tA\n",
        "            >= 0.8\tB\n",
        "            >= 0.7\tC\n",
        "            >= 0.6\tD\n",
        "             < 0.6\tF\n",
        "If the user enters a value out of range, print a suitable error message and exit. For the test, enter a score of 0.85."
      ]
    },
    {
      "cell_type": "code",
      "metadata": {
        "id": "6DLbGe6XXZPx",
        "outputId": "11c7b944-fc6c-4f7d-e32a-99fcd735dfe0",
        "colab": {
          "base_uri": "https://localhost:8080/"
        }
      },
      "source": [
        "#please enter your answer below this line\n",
        "grade=float(input(\"Enter The Grade \"))\n",
        "if grade>=0.9 and grade<=1.0:\n",
        "  print(\"A\")\n",
        "elif grade>=0.8 and grade<=0.9:\n",
        "  print(\"B\") \n",
        "elif grade>=0.7 and grade<=0.8:\n",
        "  print(\"C\")\n",
        "elif grade>=0.6 and grade<=0.7:\n",
        "  print(\"D\")\n",
        "elif grade<0.6 and grade>=0.0:\n",
        "  print(\"F\") \n",
        "else:\n",
        "  print(\"Wrong Entry\")              "
      ],
      "execution_count": 16,
      "outputs": [
        {
          "output_type": "stream",
          "text": [
            "Enter The Grade 0.87\n",
            "B\n"
          ],
          "name": "stdout"
        }
      ]
    },
    {
      "cell_type": "markdown",
      "metadata": {
        "id": "-o0scDq7WkVT"
      },
      "source": [
        ""
      ]
    }
  ]
}