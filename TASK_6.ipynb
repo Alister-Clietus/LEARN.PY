{
  "nbformat": 4,
  "nbformat_minor": 0,
  "metadata": {
    "colab": {
      "name": "TASK 6.ipynb",
      "provenance": [],
      "include_colab_link": true
    },
    "kernelspec": {
      "name": "python3",
      "display_name": "Python 3"
    },
    "language_info": {
      "name": "python"
    }
  },
  "cells": [
    {
      "cell_type": "markdown",
      "metadata": {
        "id": "view-in-github",
        "colab_type": "text"
      },
      "source": [
        "<a href=\"https://colab.research.google.com/github/Alister-Clietus/LEARN.PY/blob/main/TASK_6.ipynb\" target=\"_parent\"><img src=\"https://colab.research.google.com/assets/colab-badge.svg\" alt=\"Open In Colab\"/></a>"
      ]
    },
    {
      "cell_type": "markdown",
      "metadata": {
        "id": "2aT_QhgIny6V"
      },
      "source": [
        "1. Write a Python program to find those numbers which are divisible by 7 and multiple of 11, between 1000 and 2000 (both included)."
      ]
    },
    {
      "cell_type": "code",
      "metadata": {
        "id": "KlFG2BFZoEEU",
        "outputId": "bf616046-be09-4f31-d845-92c099112d2c",
        "colab": {
          "base_uri": "https://localhost:8080/"
        }
      },
      "source": [
        "#please enter your answer below this line\n",
        "for i in range(1000,2000):\n",
        "  if i%7==0 and i%11==0:\n",
        "    print(i)\n"
      ],
      "execution_count": 1,
      "outputs": [
        {
          "output_type": "stream",
          "text": [
            "1001\n",
            "1078\n",
            "1155\n",
            "1232\n",
            "1309\n",
            "1386\n",
            "1463\n",
            "1540\n",
            "1617\n",
            "1694\n",
            "1771\n",
            "1848\n",
            "1925\n"
          ],
          "name": "stdout"
        }
      ]
    },
    {
      "cell_type": "markdown",
      "metadata": {
        "id": "ZesHXUMboLu7"
      },
      "source": [
        "2. Write a program to print this pattern\n",
        "\n",
        "           #\n",
        "          ## \n",
        "         ###"
      ]
    },
    {
      "cell_type": "code",
      "metadata": {
        "id": "64-aUjWbohqz",
        "outputId": "5655fbad-8c4c-4573-ccb8-fb61679b6369",
        "colab": {
          "base_uri": "https://localhost:8080/"
        }
      },
      "source": [
        "#please enter your answer below this line\n",
        "print(\"  #\")\n",
        "print(\" ##\")\n",
        "print(\"###\")"
      ],
      "execution_count": 7,
      "outputs": [
        {
          "output_type": "stream",
          "text": [
            "  #\n",
            " ##\n",
            "###\n"
          ],
          "name": "stdout"
        }
      ]
    },
    {
      "cell_type": "markdown",
      "metadata": {
        "id": "6ZepaaI-ow6W"
      },
      "source": [
        "3. list=[apple, orange, apple, banana]\n",
        ". Replace all the apple in the list with grapes using for loop"
      ]
    },
    {
      "cell_type": "code",
      "metadata": {
        "id": "D7UOyf_6o6Ax",
        "outputId": "df71a0b0-4655-4866-b0e4-c3922091752f",
        "colab": {
          "base_uri": "https://localhost:8080/"
        }
      },
      "source": [
        "#please enter your answer below this line\n",
        "list_1=[\"apple\", \"orange\", \"apple\", \"banana\"]\n",
        "for i in range(len(list_1)):\n",
        "  if list_1[i]==\"apple\":\n",
        "    list_1.pop(i)\n",
        "    list_1.insert(i,\"grapes\")\n",
        "print(list_1)\n"
      ],
      "execution_count": 5,
      "outputs": [
        {
          "output_type": "stream",
          "text": [
            "['grapes', 'orange', 'grapes', 'banana']\n"
          ],
          "name": "stdout"
        }
      ]
    }
  ]
}