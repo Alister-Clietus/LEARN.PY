{
  "nbformat": 4,
  "nbformat_minor": 0,
  "metadata": {
    "colab": {
      "name": "TASK  7.ipynb",
      "provenance": [],
      "include_colab_link": true
    },
    "kernelspec": {
      "name": "python3",
      "display_name": "Python 3"
    },
    "language_info": {
      "name": "python"
    }
  },
  "cells": [
    {
      "cell_type": "markdown",
      "metadata": {
        "id": "view-in-github",
        "colab_type": "text"
      },
      "source": [
        "<a href=\"https://colab.research.google.com/github/Alister-Clietus/LEARN.PY/blob/main/TASK_7.ipynb\" target=\"_parent\"><img src=\"https://colab.research.google.com/assets/colab-badge.svg\" alt=\"Open In Colab\"/></a>"
      ]
    },
    {
      "cell_type": "code",
      "metadata": {
        "id": "fRtMIw_CzsmO",
        "outputId": "a6963740-7e4b-47d5-e5b1-c403eb91fbf4",
        "colab": {
          "base_uri": "https://localhost:8080/"
        }
      },
      "source": [
        "#please enter the code below this line.\n",
        "\n",
        "\n",
        "\n",
        "\n",
        "def sm(L):\n",
        "  temp=23\n",
        "  for i in L:\n",
        "    if i<temp:\n",
        "      temp=i\n",
        "  return temp\n",
        "\n",
        "def largest_element(L):\n",
        "  temp=23\n",
        "  for i in L:\n",
        "    if i>temp:\n",
        "      temp=i\n",
        "  return temp   \n",
        "\n",
        "def avg_all_values(L):\n",
        "  sum=0\n",
        "  for i in L:\n",
        "    sum=sum+i\n",
        "  return sum/len(L)\n",
        "\n",
        "\n",
        "def sum_all_values(L):\n",
        "  sum=0\n",
        "  for i in L:\n",
        "    sum=sum+i\n",
        "  return sum\n",
        "\n",
        "\n",
        "L=[23,24,11,90,1,41,9,99,28,56,72]\n",
        "print(\"smallest Elemet is\")\n",
        "num_1=sm(L)\n",
        "print(num_1)\n",
        "print(\"Greatest Elemet is\")\n",
        "num_2 = largest_element(L)\n",
        "print(num_2)\n",
        "print(\"Average Of Elemets is\")\n",
        "num_3 = avg_all_values(L)\n",
        "print(num_3)\n",
        "print(\"Sum Of All Elements\")\n",
        "num_4 = sum_all_values(L)\n",
        "print(num_4)\n"
      ],
      "execution_count": 10,
      "outputs": [
        {
          "output_type": "stream",
          "text": [
            "smallest Elemet is\n",
            "1\n",
            "Greatest Elemet is\n",
            "99\n",
            "Average Of Elemets is\n",
            "41.27272727272727\n",
            "Sum Of All Elements\n",
            "454\n"
          ],
          "name": "stdout"
        }
      ]
    },
    {
      "cell_type": "markdown",
      "metadata": {
        "id": "b0V3vwzcydKy"
      },
      "source": [
        "1. Write a program to check whether a  string is palindrome or not using functions. \n",
        "\n",
        "   ( A function is to be created to check whether the string is palindrome and it should give the output true or false to the main program)"
      ]
    },
    {
      "cell_type": "code",
      "metadata": {
        "id": "M2Mi7EOdyxiu",
        "outputId": "5921962f-3cf2-4c1e-b670-74da5c73e513",
        "colab": {
          "base_uri": "https://localhost:8080/"
        }
      },
      "source": [
        "#please enter the code below this line.\n",
        "def palindrome(strin):\n",
        "  return strin==strin[::-1]\n",
        "\n",
        "strin=input(\"Enter The String \")\n",
        "val=palindrome(strin)  \n",
        "if val:\n",
        "  print(\"Palindrome\")\n",
        "else:\n",
        "  print(\"Not Palindrome\")"
      ],
      "execution_count": 12,
      "outputs": [
        {
          "output_type": "stream",
          "text": [
            "Enter The String malayalam\n",
            "Palindrome\n"
          ],
          "name": "stdout"
        }
      ]
    },
    {
      "cell_type": "markdown",
      "metadata": {
        "id": "vSiShTyOzEz-"
      },
      "source": [
        "2.  Write a menu driven program to find largest element in L, smallest element, avg of all values, sum of all values in L. All these operation should be performed in different functions and the result should be returned.\n",
        "\n",
        "\n",
        "      L=[23,24,11,90,1,41,9,99,28,56,72]"
      ]
    }
  ]
}