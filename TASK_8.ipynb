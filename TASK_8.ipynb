{
  "nbformat": 4,
  "nbformat_minor": 0,
  "metadata": {
    "colab": {
      "name": "TASK 8.ipynb",
      "provenance": [],
      "include_colab_link": true
    },
    "kernelspec": {
      "name": "python3",
      "display_name": "Python 3"
    },
    "language_info": {
      "name": "python"
    }
  },
  "cells": [
    {
      "cell_type": "markdown",
      "metadata": {
        "id": "view-in-github",
        "colab_type": "text"
      },
      "source": [
        "<a href=\"https://colab.research.google.com/github/Alister-Clietus/LEARN.PY/blob/main/TASK_8.ipynb\" target=\"_parent\"><img src=\"https://colab.research.google.com/assets/colab-badge.svg\" alt=\"Open In Colab\"/></a>"
      ]
    },
    {
      "cell_type": "markdown",
      "metadata": {
        "id": "slsGswYbJSo7"
      },
      "source": [
        "1. Generate a 3 x 3 matrix using random module."
      ]
    },
    {
      "cell_type": "code",
      "metadata": {
        "id": "GGRQSYyNJW9t",
        "outputId": "95a3221d-f56f-4054-fc92-b59b5e1c8dc3",
        "colab": {
          "base_uri": "https://localhost:8080/"
        }
      },
      "source": [
        "#please provide your answer below this line.\n",
        "import numpy as np\n",
        "arr_1=np.random.randint(10,high=99,size=64).reshape(8,8)\n",
        "print(arr_1)"
      ],
      "execution_count": 1,
      "outputs": [
        {
          "output_type": "stream",
          "text": [
            "[[96 62 38 45 59 90 11 40]\n",
            " [24 63 28 33 15 42 39 41]\n",
            " [92 56 24 19 91 78 30 52]\n",
            " [81 25 69 30 82 33 52 19]\n",
            " [12 13 53 26 10 69 90 31]\n",
            " [98 82 76 32 70 54 44 77]\n",
            " [51 16 21 34 29 96 21 13]\n",
            " [76 92 38 50 91 32 45 84]]\n"
          ],
          "name": "stdout"
        }
      ]
    },
    {
      "cell_type": "markdown",
      "metadata": {
        "id": "4OB9KFX6JfYA"
      },
      "source": [
        "2. Generate two 4 x 4 matrix using numpy and \n",
        "\n",
        " a) Reshape it to 2 x 8matrix and vertically stack it.\n",
        "\n",
        " b) Reshape it to 2 x 8 matrix and horizontally stack it."
      ]
    },
    {
      "cell_type": "code",
      "metadata": {
        "id": "VoIqYeNWJ4H_",
        "outputId": "48b5eb40-5b82-409d-9aff-4d87d3b7ee86",
        "colab": {
          "base_uri": "https://localhost:8080/"
        }
      },
      "source": [
        "#please provide your answer below this line.\n",
        "import numpy as np\n",
        "arr_1=np.linspace(10,99,16).reshape(4,4)\n",
        "print(arr_1)\n",
        "print(\" \")\n",
        "arr_2=arr_1.reshape(2,8)\n",
        "arr_3=np.vstack(arr_2)\n",
        "print(arr_3)\n",
        "print(\" \")\n",
        "arr_4=arr_1.reshape(8,2)\n",
        "arr_5=np.hstack(arr_4)\n",
        "print(arr_5)\n"
      ],
      "execution_count": 7,
      "outputs": [
        {
          "output_type": "stream",
          "text": [
            "[[10.         15.93333333 21.86666667 27.8       ]\n",
            " [33.73333333 39.66666667 45.6        51.53333333]\n",
            " [57.46666667 63.4        69.33333333 75.26666667]\n",
            " [81.2        87.13333333 93.06666667 99.        ]]\n",
            " \n",
            "[[10.         15.93333333 21.86666667 27.8        33.73333333 39.66666667\n",
            "  45.6        51.53333333]\n",
            " [57.46666667 63.4        69.33333333 75.26666667 81.2        87.13333333\n",
            "  93.06666667 99.        ]]\n",
            " \n",
            "[10.         15.93333333 21.86666667 27.8        33.73333333 39.66666667\n",
            " 45.6        51.53333333 57.46666667 63.4        69.33333333 75.26666667\n",
            " 81.2        87.13333333 93.06666667 99.        ]\n"
          ],
          "name": "stdout"
        }
      ]
    }
  ]
}