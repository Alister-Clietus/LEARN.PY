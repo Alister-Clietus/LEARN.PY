{
  "nbformat": 4,
  "nbformat_minor": 0,
  "metadata": {
    "colab": {
      "name": "TASK 9.ipynb",
      "provenance": [],
      "include_colab_link": true
    },
    "kernelspec": {
      "name": "python3",
      "display_name": "Python 3"
    },
    "language_info": {
      "name": "python"
    }
  },
  "cells": [
    {
      "cell_type": "markdown",
      "metadata": {
        "id": "view-in-github",
        "colab_type": "text"
      },
      "source": [
        "<a href=\"https://colab.research.google.com/github/Alister-Clietus/LEARN.PY/blob/main/TASK_9.ipynb\" target=\"_parent\"><img src=\"https://colab.research.google.com/assets/colab-badge.svg\" alt=\"Open In Colab\"/></a>"
      ]
    },
    {
      "cell_type": "markdown",
      "metadata": {
        "id": "CBOQ3rFElEb0"
      },
      "source": [
        "1. Create an 4x4 array containing the values ranging from 0 - 15 (use arange function). Then ,\n",
        "  \n",
        "  a) split it equally along horizontal.\n",
        "\n",
        "  b) split it as 4 parts vertically.\n",
        "\n"
      ]
    },
    {
      "cell_type": "code",
      "metadata": {
        "id": "pKy4fjS_m3XD",
        "outputId": "059813ab-49c9-4730-ac60-9bec7c83861d",
        "colab": {
          "base_uri": "https://localhost:8080/"
        }
      },
      "source": [
        "#please provide your answer below this line\n",
        "import numpy as numpy1\n",
        "arr_1=numpy1.arange(16).reshape(4,4)\n",
        "print(arr_1)\n",
        "print(numpy1.hsplit(arr_1,4))\n",
        "print(numpy1.vsplit(arr_1,4))\n"
      ],
      "execution_count": 4,
      "outputs": [
        {
          "output_type": "stream",
          "text": [
            "[[ 0  1  2  3]\n",
            " [ 4  5  6  7]\n",
            " [ 8  9 10 11]\n",
            " [12 13 14 15]]\n",
            "[array([[ 0],\n",
            "       [ 4],\n",
            "       [ 8],\n",
            "       [12]]), array([[ 1],\n",
            "       [ 5],\n",
            "       [ 9],\n",
            "       [13]]), array([[ 2],\n",
            "       [ 6],\n",
            "       [10],\n",
            "       [14]]), array([[ 3],\n",
            "       [ 7],\n",
            "       [11],\n",
            "       [15]])]\n",
            "[array([[0, 1, 2, 3]]), array([[4, 5, 6, 7]]), array([[ 8,  9, 10, 11]]), array([[12, 13, 14, 15]])]\n"
          ],
          "name": "stdout"
        }
      ]
    },
    {
      "cell_type": "markdown",
      "metadata": {
        "id": "ORtqWRAeoMvn"
      },
      "source": [
        "2. Create a 3x3 matrix using random module and then,\n",
        "\n",
        "  a) Find the ceil of the matrix.\n",
        "  \n",
        "  b) Find the floor of the matrix."
      ]
    },
    {
      "cell_type": "code",
      "metadata": {
        "id": "kt_CO_v9qpU-",
        "outputId": "38c969ff-7886-4922-8a91-56a99a630047",
        "colab": {
          "base_uri": "https://localhost:8080/"
        }
      },
      "source": [
        "#please provide your answer below this line\n",
        "import numpy as np\n",
        "arr_1=np.random.randint(10,high=15,size=9).reshape(3,3)\n",
        "print(\"Given Matrix is\\n\",arr_1)\n",
        "arr_ceil=np.ceil(arr_1)\n",
        "print(\"Given Ceil Of The Matrix Is\\n\",arr_ceil)\n",
        "arr_floor=np.floor(arr_1)\n",
        "print(\"Given Ceil Of The Matrix Is\\n\",arr_floor)"
      ],
      "execution_count": 10,
      "outputs": [
        {
          "output_type": "stream",
          "text": [
            "Given Matrix is\n",
            " [[10 13 14]\n",
            " [13 11 13]\n",
            " [10 10 10]]\n",
            "Given Ceil Of The Matrix Is\n",
            " [[10. 13. 14.]\n",
            " [13. 11. 13.]\n",
            " [10. 10. 10.]]\n",
            "Given Ceil Of The Matrix Is\n",
            " [[10. 13. 14.]\n",
            " [13. 11. 13.]\n",
            " [10. 10. 10.]]\n"
          ],
          "name": "stdout"
        }
      ]
    },
    {
      "cell_type": "markdown",
      "metadata": {
        "id": "oln9t19WqzBb"
      },
      "source": [
        "3. Create a random 1x4 array and print the random array and its shape.\n",
        "    \n",
        "      (use the shape function for finding the shape & use the same random we created here for both the below operations.)\n",
        "\n",
        "  a) Squeeze the random array and print the squeezed array and its shape.\n",
        "  b) Expand the random array by one axis and print the expanded array and its shape."
      ]
    },
    {
      "cell_type": "code",
      "metadata": {
        "id": "cbGGwRo3vpVX",
        "outputId": "be8479ef-8d08-42e9-80b4-0d98e133839a",
        "colab": {
          "base_uri": "https://localhost:8080/"
        }
      },
      "source": [
        "#please provide your answer below this line.\n",
        "import numpy as np\n",
        "arr_1=np.random.randint(10,high=14,size=4).reshape(2,2,1)\n",
        "print(\"Shape Of The array is\",np.shape(arr_1))\n",
        "print(\"The array is\",arr_1)\n",
        "print(\"Shpe Of Squeezed Aray is\",np.squeeze(arr_1,axis=2).shape)\n",
        "print(\"Squeezed Aray is\",np.squeeze(arr_1,axis=2))\n",
        "print(\"Shape Of Expanded Array is \",np.expand_dims(arr_1, axis=0).shape)\n",
        "print(\"Expanded Array is \",np.expand_dims(arr_1, axis=0))\n",
        "\n",
        "\n",
        "\n"
      ],
      "execution_count": 39,
      "outputs": [
        {
          "output_type": "stream",
          "text": [
            "Shape Of The array is (2, 2, 1)\n",
            "The array is [[[11]\n",
            "  [10]]\n",
            "\n",
            " [[10]\n",
            "  [11]]]\n",
            "Shpe Of Squeezed Aray is (2, 2)\n",
            "Squeezed Aray is [[11 10]\n",
            " [10 11]]\n",
            "Shape Of Expanded Array is  (1, 2, 2, 1)\n",
            "Expanded Array is  [[[[11]\n",
            "   [10]]\n",
            "\n",
            "  [[10]\n",
            "   [11]]]]\n"
          ],
          "name": "stdout"
        }
      ]
    }
  ]
}